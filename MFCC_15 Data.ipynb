{
 "cells": [
  {
   "cell_type": "code",
   "execution_count": 1,
   "metadata": {},
   "outputs": [],
   "source": [
    "import wave, struct, os, glob, librosa, pickle\n",
    "import numpy as np"
   ]
  },
  {
   "cell_type": "code",
   "execution_count": 2,
   "metadata": {},
   "outputs": [],
   "source": [
    "with open ('data', 'rb') as fp:\n",
    "    data = pickle.load(fp)"
   ]
  },
  {
   "cell_type": "code",
   "execution_count": 3,
   "metadata": {},
   "outputs": [],
   "source": [
    "with open ('label', 'rb') as fp:\n",
    "    label = pickle.load(fp)"
   ]
  },
  {
   "cell_type": "code",
   "execution_count": 4,
   "metadata": {},
   "outputs": [
    {
     "data": {
      "text/plain": [
       "44242"
      ]
     },
     "execution_count": 4,
     "metadata": {},
     "output_type": "execute_result"
    }
   ],
   "source": [
    "len(data)"
   ]
  },
  {
   "cell_type": "code",
   "execution_count": 5,
   "metadata": {},
   "outputs": [],
   "source": [
    "mx = []\n",
    "for i in range(len(data)):\n",
    "    mx.append(data[i].shape[1])"
   ]
  },
  {
   "cell_type": "code",
   "execution_count": 6,
   "metadata": {},
   "outputs": [],
   "source": [
    "u,c = np.unique(mx, return_counts = True)"
   ]
  },
  {
   "cell_type": "code",
   "execution_count": 7,
   "metadata": {},
   "outputs": [
    {
     "data": {
      "text/plain": [
       "array([ 26,  37,  40,  47,  53,  54,  56,  58,  59,  60,  61,  62,  63,\n",
       "        65,  66,  67,  68,  69,  70,  71,  72,  73,  74,  75,  76,  78,\n",
       "        79,  80,  81,  82,  83,  84,  85,  86,  87,  88,  89,  91,  92,\n",
       "        93,  94,  95,  96,  97,  98,  99, 100, 101, 102, 103, 104, 105,\n",
       "       106, 107, 108, 109, 110, 111, 112, 113, 114, 115, 116, 117, 118,\n",
       "       119, 120, 121, 122, 123, 124, 125, 126, 127, 128, 129, 130, 131,\n",
       "       132, 133, 134, 135, 136, 137, 138, 139, 140, 141, 142, 143, 144,\n",
       "       145, 146, 147, 148, 149, 150, 151, 152, 153, 154, 155, 156, 157,\n",
       "       158, 159, 160, 161, 162, 164, 165, 166, 167, 168, 169, 170, 171,\n",
       "       172, 173, 174, 175, 176, 177, 178, 179, 180, 181, 182, 183, 184,\n",
       "       186, 187, 188, 189, 190, 191, 192, 193, 194, 195, 196, 197, 198,\n",
       "       199, 200, 201, 202, 203, 204, 205, 206, 207, 208, 210, 211, 212,\n",
       "       214, 215, 216, 217, 218, 219, 220, 221, 223, 225, 227, 228, 229,\n",
       "       230, 232, 234, 235, 236, 238, 239, 240, 241, 243, 245, 247, 248,\n",
       "       249, 250, 251, 252, 254, 256, 257, 258, 259, 260, 261, 262, 263,\n",
       "       265, 267, 269, 271, 272, 273, 274, 275, 276, 277, 278, 280, 282,\n",
       "       283, 284, 285, 286, 287, 289, 291, 293, 295, 296, 297, 298, 300,\n",
       "       302, 304, 306, 307, 308, 309, 311, 313, 315, 317, 318, 319, 320,\n",
       "       321, 322, 324, 325, 326, 328, 329, 330, 331, 333, 335, 336, 337,\n",
       "       339, 340, 341, 342, 343, 344, 346, 347, 348, 350, 351, 352, 353,\n",
       "       354, 355, 357, 359, 361, 363, 364, 365, 366, 368, 370, 371, 372,\n",
       "       374, 375, 376, 377, 379, 380, 381, 383, 385, 386, 387, 388, 390,\n",
       "       392, 394, 396, 397, 398, 399, 401, 403, 405, 407, 408, 409, 410,\n",
       "       412, 414, 415, 416, 418, 419, 420, 421, 423, 425, 427, 429, 430,\n",
       "       431, 432, 434, 436, 438, 440, 442, 443, 445, 447, 448, 449, 451,\n",
       "       453, 454, 455, 456, 458, 459, 460, 462, 464, 467, 469, 471, 473,\n",
       "       475, 477, 478, 480, 482, 484, 486, 487, 489, 491, 493, 495, 497,\n",
       "       499, 500, 502, 504, 506, 508, 510, 512, 513, 515, 517, 519, 521,\n",
       "       522, 524, 528, 532, 535, 537, 541, 544, 545, 548, 552, 554, 555,\n",
       "       559, 561, 563, 565, 566, 567, 568, 570, 574, 576, 578, 583, 587,\n",
       "       591, 600, 601, 603, 616, 630, 634, 636, 640, 649, 657, 670, 673,\n",
       "       679, 690, 712, 714, 831])"
      ]
     },
     "execution_count": 7,
     "metadata": {},
     "output_type": "execute_result"
    }
   ],
   "source": [
    "u"
   ]
  },
  {
   "cell_type": "code",
   "execution_count": 8,
   "metadata": {},
   "outputs": [
    {
     "data": {
      "text/plain": [
       "array([  1,   2,   1,   1,   1,   1,   1,   8,   3,   2,  14,   1,  22,\n",
       "        24,   1,  36,   2,  40,  46,  16,  93,   1, 101,   1, 148, 145,\n",
       "         2, 154, 126,  63, 226,   3, 267,   2, 289,   4, 342, 319, 203,\n",
       "       185, 435,   5, 456,   3, 477,   8, 557,   1, 554, 262, 373, 639,\n",
       "         4, 650,   5, 704,   3, 687,   1, 733, 214, 545, 761,   8, 778,\n",
       "         4, 810,   3, 761,   6, 805, 155, 714, 715,  76, 838,   4, 805,\n",
       "         3, 776,   4, 805,  45, 750, 552, 167, 729,   2, 741,   1, 731,\n",
       "         2, 726,   2, 721, 473, 213, 700,   3, 662,   1, 608,   6, 646,\n",
       "         2, 603, 317, 261, 542, 589,   2, 521,   3, 503,   2, 474, 232,\n",
       "       275, 473,   1, 483,   3, 471,   1, 469,   2, 419, 134, 247, 365,\n",
       "       334,   1, 350,   2, 329,   1, 329,  76, 234, 300,  14, 278,   2,\n",
       "       296,   1, 271,   2, 274,  26, 214, 206,  40, 227, 220,   2, 191,\n",
       "       189,   2, 178, 153,  47, 158,   1, 181, 139, 130, 136,  81,  50,\n",
       "       140, 132, 113,   1, 118,  96,  47,  49, 110,  78,  92,  76,   1,\n",
       "        91,  36,  51,  71,  75,  62,   1,  62,   1,  62,  13,  38,  39,\n",
       "        54,  46,  63,  58,  11,  30,  43,   6,  47,   1,  43,  36,  48,\n",
       "         2,  37,  24,   7,  37,  42,  33,  33,  36,  25,  17,  26,  26,\n",
       "        35,  29,  25,  14,  10,  24,  32,  24,  28,  39,  11,   6,  19,\n",
       "         2,  18,  22,   3,  25,  14,   8,  20,  23,  16,  14,   1,  29,\n",
       "        23,   4,  14,  17,   2,  16,  19,   1,  25,  13,   1,  11,   5,\n",
       "         3,  14,  19,   9,  14,  11,  10,   5,   7,  15,  15,   2,   9,\n",
       "        10,   7,   5,   6,   9,   1,   9,   8,   7,   3,   7,   9,   6,\n",
       "        10,   8,   8,   4,   6,   8,   6,   6,   3,   7,   4,   5,   5,\n",
       "         4,  13,   1,   2,   6,   2,   1,   4,   2,   6,   3,   5,   1,\n",
       "         6,   1,   5,   3,   3,   1,   4,   1,   4,   3,   1,   2,   5,\n",
       "         1,   3,   4,   1,   3,   1,   1,   2,   2,   3,   3,   4,   2,\n",
       "         1,   1,   1,   1,   4,   1,   4,   1,   1,   2,   2,   3,   4,\n",
       "         1,   2,   2,   4,   3,   1,   2,   1,   1,   1,   1,   2,   1,\n",
       "         2,   1,   1,   2,   1,   1,   1,   1,   2,   4,   3,   1,   1,\n",
       "         1,   4,   1,   1,   2,   3,   1,   2,   2,   1,   2,   1,   1,\n",
       "         1,   1,   2,   1,   2,   1,   1,   1,   1,   1,   1,   1,   1,\n",
       "         1,   1,   1,   1,   1], dtype=int64)"
      ]
     },
     "execution_count": 8,
     "metadata": {},
     "output_type": "execute_result"
    }
   ],
   "source": [
    "c"
   ]
  },
  {
   "cell_type": "code",
   "execution_count": 9,
   "metadata": {},
   "outputs": [
    {
     "data": {
      "text/plain": [
       "(20, 89)"
      ]
     },
     "execution_count": 9,
     "metadata": {},
     "output_type": "execute_result"
    }
   ],
   "source": [
    "data[0].shape"
   ]
  },
  {
   "cell_type": "code",
   "execution_count": 10,
   "metadata": {},
   "outputs": [],
   "source": [
    "data_now = []\n",
    "label_now = []\n",
    "for i in range(len(data)):\n",
    "    l = data[i].shape[1]\n",
    "    if l <= 339:\n",
    "        l = 339 - l\n",
    "        lft = int(l/2)\n",
    "        rgt = l - lft\n",
    "        dat = np.pad(data[i][:15],[[0,0],[lft,rgt]], mode = 'wrap')\n",
    "        data_now.append(dat.flatten())\n",
    "        label_now.append(label[i])"
   ]
  },
  {
   "cell_type": "code",
   "execution_count": 11,
   "metadata": {},
   "outputs": [
    {
     "data": {
      "text/plain": [
       "(5085,)"
      ]
     },
     "execution_count": 11,
     "metadata": {},
     "output_type": "execute_result"
    }
   ],
   "source": [
    "data_now[0].shape"
   ]
  },
  {
   "cell_type": "code",
   "execution_count": 12,
   "metadata": {},
   "outputs": [
    {
     "data": {
      "text/plain": [
       "43584"
      ]
     },
     "execution_count": 12,
     "metadata": {},
     "output_type": "execute_result"
    }
   ],
   "source": [
    "len(data_now)"
   ]
  },
  {
   "cell_type": "code",
   "execution_count": 13,
   "metadata": {},
   "outputs": [
    {
     "data": {
      "text/plain": [
       "43584"
      ]
     },
     "execution_count": 13,
     "metadata": {},
     "output_type": "execute_result"
    }
   ],
   "source": [
    "len(label_now)"
   ]
  },
  {
   "cell_type": "code",
   "execution_count": 14,
   "metadata": {},
   "outputs": [],
   "source": [
    "with open('data_2_15_mfcc', 'wb') as fp:\n",
    "    pickle.dump(data_now, fp)"
   ]
  },
  {
   "cell_type": "code",
   "execution_count": 15,
   "metadata": {},
   "outputs": [],
   "source": [
    "with open('label_2_15_mfcc', 'wb') as fp:\n",
    "    pickle.dump(label_now, fp)"
   ]
  },
  {
   "cell_type": "code",
   "execution_count": 16,
   "metadata": {},
   "outputs": [],
   "source": [
    "u,c = np.unique(label_now, return_counts = True)"
   ]
  },
  {
   "cell_type": "code",
   "execution_count": 17,
   "metadata": {},
   "outputs": [
    {
     "data": {
      "text/plain": [
       "array([  0,   1,   2,   3,   4,   5,   6,   7,   8,   9,  10,  11,  12,\n",
       "        13,  14,  15,  16,  17,  18,  19,  20,  21,  22,  23,  24,  25,\n",
       "        26,  27,  28,  29,  30,  31,  32,  33,  34,  35,  36,  37,  38,\n",
       "        39,  40,  41,  42,  43,  44,  45,  46,  47,  48,  49,  50,  51,\n",
       "        52,  53,  54,  55,  56,  57,  58,  59,  60,  61,  62,  63,  64,\n",
       "        65,  66,  67,  68,  69,  70,  71,  72,  73,  74,  75,  76,  77,\n",
       "        78,  79,  80,  81,  82,  83,  84,  85,  86,  87,  88,  89,  90,\n",
       "        91,  92,  93,  94,  95,  96,  97,  98,  99, 100, 101, 102, 103,\n",
       "       104, 105, 106, 107, 108])"
      ]
     },
     "execution_count": 17,
     "metadata": {},
     "output_type": "execute_result"
    }
   ],
   "source": [
    "u"
   ]
  },
  {
   "cell_type": "code",
   "execution_count": 18,
   "metadata": {},
   "outputs": [
    {
     "data": {
      "text/plain": [
       "array([223, 344, 379, 358, 376, 390, 455, 409, 368, 355, 490, 333, 443,\n",
       "       501, 374, 350, 386, 418, 345, 349, 472, 365, 331, 479, 360, 374,\n",
       "       372, 393, 375, 293, 433, 410, 477, 354, 472, 388, 469, 477, 336,\n",
       "       420, 415, 398, 394, 456, 445, 407, 429, 460, 415, 458, 456, 399,\n",
       "       403, 408, 450, 363, 466, 422, 401, 465, 421, 408, 409, 378, 413,\n",
       "       411, 408, 401, 402, 390, 397, 307, 340, 416, 418, 335, 406, 418,\n",
       "       408, 420, 413, 410, 420, 171, 413, 419, 416, 416, 392, 416, 415,\n",
       "       419, 420, 410, 411, 420, 422, 399, 383, 392, 415, 421, 421, 421,\n",
       "       417, 417, 291, 417, 275], dtype=int64)"
      ]
     },
     "execution_count": 18,
     "metadata": {},
     "output_type": "execute_result"
    }
   ],
   "source": [
    "c"
   ]
  },
  {
   "cell_type": "code",
   "execution_count": null,
   "metadata": {},
   "outputs": [],
   "source": []
  },
  {
   "cell_type": "code",
   "execution_count": null,
   "metadata": {},
   "outputs": [],
   "source": []
  }
 ],
 "metadata": {
  "kernelspec": {
   "display_name": "Python 3",
   "language": "python",
   "name": "python3"
  },
  "language_info": {
   "codemirror_mode": {
    "name": "ipython",
    "version": 3
   },
   "file_extension": ".py",
   "mimetype": "text/x-python",
   "name": "python",
   "nbconvert_exporter": "python",
   "pygments_lexer": "ipython3",
   "version": "3.7.1"
  }
 },
 "nbformat": 4,
 "nbformat_minor": 2
}
